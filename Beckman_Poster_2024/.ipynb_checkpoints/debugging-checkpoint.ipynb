{
 "cells": [
  {
   "cell_type": "code",
   "execution_count": 1,
   "id": "ba783653",
   "metadata": {},
   "outputs": [],
   "source": [
    "import dadi"
   ]
  },
  {
   "cell_type": "code",
   "execution_count": 2,
   "id": "d422d63f",
   "metadata": {},
   "outputs": [],
   "source": [
    "dd = {'chr1_123':{'segregating': ['A','T'], 'calls': {'Mmd_FRA': (0,0), 'Mmd_IRA': (7,3) }, 'outgroup_allele': 'T' } }"
   ]
  },
  {
   "cell_type": "code",
   "execution_count": 3,
   "id": "b2d484d1",
   "metadata": {},
   "outputs": [],
   "source": [
    "fs = dadi.Spectrum.from_data_dict(dd, ['Mmd_FRA', 'Mmd_IRA'], [16, 10])"
   ]
  },
  {
   "cell_type": "code",
   "execution_count": 4,
   "id": "2f5ca654",
   "metadata": {},
   "outputs": [
    {
     "data": {
      "text/plain": [
       "0.0"
      ]
     },
     "execution_count": 4,
     "metadata": {},
     "output_type": "execute_result"
    }
   ],
   "source": [
    "fs.sum()"
   ]
  },
  {
   "cell_type": "code",
   "execution_count": 5,
   "id": "925b51c7",
   "metadata": {},
   "outputs": [
    {
     "data": {
      "text/plain": [
       "Spectrum([[-- 0.0 0.0 0.0 0.0 0.0 0.0 0.0 0.0 0.0 0.0]\n",
       " [0.0 0.0 0.0 0.0 0.0 0.0 0.0 0.0 0.0 0.0 0.0]\n",
       " [0.0 0.0 0.0 0.0 0.0 0.0 0.0 0.0 0.0 0.0 0.0]\n",
       " [0.0 0.0 0.0 0.0 0.0 0.0 0.0 0.0 0.0 0.0 0.0]\n",
       " [0.0 0.0 0.0 0.0 0.0 0.0 0.0 0.0 0.0 0.0 0.0]\n",
       " [0.0 0.0 0.0 0.0 0.0 0.0 0.0 0.0 0.0 0.0 0.0]\n",
       " [0.0 0.0 0.0 0.0 0.0 0.0 0.0 0.0 0.0 0.0 0.0]\n",
       " [0.0 0.0 0.0 0.0 0.0 0.0 0.0 0.0 0.0 0.0 0.0]\n",
       " [0.0 0.0 0.0 0.0 0.0 0.0 0.0 0.0 0.0 0.0 0.0]\n",
       " [0.0 0.0 0.0 0.0 0.0 0.0 0.0 0.0 0.0 0.0 0.0]\n",
       " [0.0 0.0 0.0 0.0 0.0 0.0 0.0 0.0 0.0 0.0 0.0]\n",
       " [0.0 0.0 0.0 0.0 0.0 0.0 0.0 0.0 0.0 0.0 0.0]\n",
       " [0.0 0.0 0.0 0.0 0.0 0.0 0.0 0.0 0.0 0.0 0.0]\n",
       " [0.0 0.0 0.0 0.0 0.0 0.0 0.0 0.0 0.0 0.0 0.0]\n",
       " [0.0 0.0 0.0 0.0 0.0 0.0 0.0 0.0 0.0 0.0 0.0]\n",
       " [0.0 0.0 0.0 0.0 0.0 0.0 0.0 0.0 0.0 0.0 0.0]\n",
       " [0.0 0.0 0.0 0.0 0.0 0.0 0.0 0.0 0.0 0.0 --]], folded=False, pop_ids=['Mmd_FRA', 'Mmd_IRA'])"
      ]
     },
     "execution_count": 5,
     "metadata": {},
     "output_type": "execute_result"
    }
   ],
   "source": [
    "fs"
   ]
  },
  {
   "cell_type": "code",
   "execution_count": 6,
   "id": "f2743998",
   "metadata": {},
   "outputs": [],
   "source": [
    "dd2 = {'chr1_123':{'segregating': ['A','T'], 'calls': {'Mmd_FRA': (1,15), 'Mmd_IRA': (7,3) }, 'outgroup_allele': 'T' } }"
   ]
  },
  {
   "cell_type": "code",
   "execution_count": 7,
   "id": "2f3b678e",
   "metadata": {},
   "outputs": [],
   "source": [
    "fs2 = dadi.Spectrum.from_data_dict(dd2, ['Mmd_FRA', 'Mmd_IRA'], [16, 10])"
   ]
  },
  {
   "cell_type": "code",
   "execution_count": 8,
   "id": "baa83b9c",
   "metadata": {},
   "outputs": [
    {
     "data": {
      "text/plain": [
       "1.0"
      ]
     },
     "execution_count": 8,
     "metadata": {},
     "output_type": "execute_result"
    }
   ],
   "source": [
    "fs2.sum()"
   ]
  },
  {
   "cell_type": "code",
   "execution_count": 9,
   "id": "8d76a5b3",
   "metadata": {},
   "outputs": [
    {
     "data": {
      "text/plain": [
       "Spectrum([[-- 0.0 0.0 0.0 0.0 0.0 0.0 0.0 0.0 0.0 0.0]\n",
       " [0.0 0.0 0.0 0.0 0.0 0.0 0.0 1.0 0.0 0.0 0.0]\n",
       " [0.0 0.0 0.0 0.0 0.0 0.0 0.0 0.0 0.0 0.0 0.0]\n",
       " [0.0 0.0 0.0 0.0 0.0 0.0 0.0 0.0 0.0 0.0 0.0]\n",
       " [0.0 0.0 0.0 0.0 0.0 0.0 0.0 0.0 0.0 0.0 0.0]\n",
       " [0.0 0.0 0.0 0.0 0.0 0.0 0.0 0.0 0.0 0.0 0.0]\n",
       " [0.0 0.0 0.0 0.0 0.0 0.0 0.0 0.0 0.0 0.0 0.0]\n",
       " [0.0 0.0 0.0 0.0 0.0 0.0 0.0 0.0 0.0 0.0 0.0]\n",
       " [0.0 0.0 0.0 0.0 0.0 0.0 0.0 0.0 0.0 0.0 0.0]\n",
       " [0.0 0.0 0.0 0.0 0.0 0.0 0.0 0.0 0.0 0.0 0.0]\n",
       " [0.0 0.0 0.0 0.0 0.0 0.0 0.0 0.0 0.0 0.0 0.0]\n",
       " [0.0 0.0 0.0 0.0 0.0 0.0 0.0 0.0 0.0 0.0 0.0]\n",
       " [0.0 0.0 0.0 0.0 0.0 0.0 0.0 0.0 0.0 0.0 0.0]\n",
       " [0.0 0.0 0.0 0.0 0.0 0.0 0.0 0.0 0.0 0.0 0.0]\n",
       " [0.0 0.0 0.0 0.0 0.0 0.0 0.0 0.0 0.0 0.0 0.0]\n",
       " [0.0 0.0 0.0 0.0 0.0 0.0 0.0 0.0 0.0 0.0 0.0]\n",
       " [0.0 0.0 0.0 0.0 0.0 0.0 0.0 0.0 0.0 0.0 --]], folded=False, pop_ids=['Mmd_FRA', 'Mmd_IRA'])"
      ]
     },
     "execution_count": 9,
     "metadata": {},
     "output_type": "execute_result"
    }
   ],
   "source": [
    "fs2"
   ]
  },
  {
   "cell_type": "code",
   "execution_count": 19,
   "id": "c8214cfd",
   "metadata": {},
   "outputs": [],
   "source": [
    "dd3 = {'chr1_123':{'segregating': ['A','T'], 'calls': {'Mmd_FRA': (1,15), 'Mmd_IRA': (0,0) }, 'outgroup_allele': 'T' } }"
   ]
  },
  {
   "cell_type": "code",
   "execution_count": 11,
   "id": "baa4067c",
   "metadata": {},
   "outputs": [],
   "source": [
    "fs3 = dadi.Spectrum.from_data_dict(dd3, ['Mmd_FRA', 'Mmd_IRA'], [16, 10])"
   ]
  },
  {
   "cell_type": "code",
   "execution_count": 12,
   "id": "1e6d69a4",
   "metadata": {},
   "outputs": [
    {
     "data": {
      "text/plain": [
       "0.0"
      ]
     },
     "execution_count": 12,
     "metadata": {},
     "output_type": "execute_result"
    }
   ],
   "source": [
    "fs3.sum()"
   ]
  },
  {
   "cell_type": "code",
   "execution_count": 13,
   "id": "3270640b",
   "metadata": {},
   "outputs": [
    {
     "data": {
      "text/plain": [
       "Spectrum([[-- 0.0 0.0 0.0 0.0 0.0 0.0 0.0 0.0 0.0 0.0]\n",
       " [0.0 0.0 0.0 0.0 0.0 0.0 0.0 0.0 0.0 0.0 0.0]\n",
       " [0.0 0.0 0.0 0.0 0.0 0.0 0.0 0.0 0.0 0.0 0.0]\n",
       " [0.0 0.0 0.0 0.0 0.0 0.0 0.0 0.0 0.0 0.0 0.0]\n",
       " [0.0 0.0 0.0 0.0 0.0 0.0 0.0 0.0 0.0 0.0 0.0]\n",
       " [0.0 0.0 0.0 0.0 0.0 0.0 0.0 0.0 0.0 0.0 0.0]\n",
       " [0.0 0.0 0.0 0.0 0.0 0.0 0.0 0.0 0.0 0.0 0.0]\n",
       " [0.0 0.0 0.0 0.0 0.0 0.0 0.0 0.0 0.0 0.0 0.0]\n",
       " [0.0 0.0 0.0 0.0 0.0 0.0 0.0 0.0 0.0 0.0 0.0]\n",
       " [0.0 0.0 0.0 0.0 0.0 0.0 0.0 0.0 0.0 0.0 0.0]\n",
       " [0.0 0.0 0.0 0.0 0.0 0.0 0.0 0.0 0.0 0.0 0.0]\n",
       " [0.0 0.0 0.0 0.0 0.0 0.0 0.0 0.0 0.0 0.0 0.0]\n",
       " [0.0 0.0 0.0 0.0 0.0 0.0 0.0 0.0 0.0 0.0 0.0]\n",
       " [0.0 0.0 0.0 0.0 0.0 0.0 0.0 0.0 0.0 0.0 0.0]\n",
       " [0.0 0.0 0.0 0.0 0.0 0.0 0.0 0.0 0.0 0.0 0.0]\n",
       " [0.0 0.0 0.0 0.0 0.0 0.0 0.0 0.0 0.0 0.0 0.0]\n",
       " [0.0 0.0 0.0 0.0 0.0 0.0 0.0 0.0 0.0 0.0 --]], folded=False, pop_ids=['Mmd_FRA', 'Mmd_IRA'])"
      ]
     },
     "execution_count": 13,
     "metadata": {},
     "output_type": "execute_result"
    }
   ],
   "source": [
    "fs3"
   ]
  },
  {
   "cell_type": "code",
   "execution_count": 31,
   "id": "596e4c26",
   "metadata": {},
   "outputs": [],
   "source": [
    "dd4 = {'chr1_123':{'segregating': ['A','T'], 'calls': {'Mmd_IRA': (7,3)}, 'outgroup_allele': 'T' }, \n",
    "       'chr1_1234':{'segregating': ['A','T'], 'calls': {'Mmd_IRA': (7,3), 'Mmd_FRA': (15, 1) }, 'outgroup_allele': 'T' } }"
   ]
  },
  {
   "cell_type": "code",
   "execution_count": 32,
   "id": "6c21dfe9",
   "metadata": {
    "scrolled": false
   },
   "outputs": [
    {
     "ename": "KeyError",
     "evalue": "'Mmd_FRA'",
     "output_type": "error",
     "traceback": [
      "\u001b[0;31m---------------------------------------------------------------------------\u001b[0m",
      "\u001b[0;31mKeyError\u001b[0m                                  Traceback (most recent call last)",
      "Cell \u001b[0;32mIn[32], line 1\u001b[0m\n\u001b[0;32m----> 1\u001b[0m fs4 \u001b[38;5;241m=\u001b[39m dadi\u001b[38;5;241m.\u001b[39mSpectrum\u001b[38;5;241m.\u001b[39mfrom_data_dict(dd4, [\u001b[38;5;124m'\u001b[39m\u001b[38;5;124mMmd_FRA\u001b[39m\u001b[38;5;124m'\u001b[39m, \u001b[38;5;124m'\u001b[39m\u001b[38;5;124mMmd_IRA\u001b[39m\u001b[38;5;124m'\u001b[39m], [\u001b[38;5;241m16\u001b[39m, \u001b[38;5;241m10\u001b[39m])\n",
      "File \u001b[0;32m~/anaconda3/lib/python3.11/site-packages/dadi/Spectrum_mod.py:2197\u001b[0m, in \u001b[0;36mSpectrum.from_data_dict\u001b[0;34m(data_dict, pop_ids, projections, mask_corners, polarized)\u001b[0m\n\u001b[1;32m   2169\u001b[0m \u001b[38;5;250m\u001b[39m\u001b[38;5;124;03m\"\"\"\u001b[39;00m\n\u001b[1;32m   2170\u001b[0m \u001b[38;5;124;03mSpectrum from a dictionary of polymorphisms.\u001b[39;00m\n\u001b[1;32m   2171\u001b[0m \n\u001b[0;32m   (...)\u001b[0m\n\u001b[1;32m   2194\u001b[0m \u001b[38;5;124;03mNon-diallelic polymorphisms are skipped.\u001b[39;00m\n\u001b[1;32m   2195\u001b[0m \u001b[38;5;124;03m\"\"\"\u001b[39;00m\n\u001b[1;32m   2196\u001b[0m \u001b[38;5;28;01mimport\u001b[39;00m \u001b[38;5;21;01mdadi\u001b[39;00m\u001b[38;5;21;01m.\u001b[39;00m\u001b[38;5;21;01mMisc\u001b[39;00m\n\u001b[0;32m-> 2197\u001b[0m cd \u001b[38;5;241m=\u001b[39m dadi\u001b[38;5;241m.\u001b[39mMisc\u001b[38;5;241m.\u001b[39mcount_data_dict(data_dict, pop_ids)\n\u001b[1;32m   2198\u001b[0m fs \u001b[38;5;241m=\u001b[39m Spectrum\u001b[38;5;241m.\u001b[39m_from_count_dict(cd, projections, polarized, pop_ids, \n\u001b[1;32m   2199\u001b[0m         mask_corners\u001b[38;5;241m=\u001b[39mmask_corners)\n\u001b[1;32m   2200\u001b[0m \u001b[38;5;28;01mreturn\u001b[39;00m fs\n",
      "File \u001b[0;32m~/anaconda3/lib/python3.11/site-packages/dadi/Misc.py:333\u001b[0m, in \u001b[0;36mcount_data_dict\u001b[0;34m(data_dict, pop_ids)\u001b[0m\n\u001b[1;32m    330\u001b[0m     this_snp_polarized \u001b[38;5;241m=\u001b[39m \u001b[38;5;28;01mFalse\u001b[39;00m\n\u001b[1;32m    332\u001b[0m \u001b[38;5;66;03m# Extract the allele calls for each population.\u001b[39;00m\n\u001b[0;32m--> 333\u001b[0m allele1_calls \u001b[38;5;241m=\u001b[39m [snp_info[\u001b[38;5;124m'\u001b[39m\u001b[38;5;124mcalls\u001b[39m\u001b[38;5;124m'\u001b[39m][pop][\u001b[38;5;241m0\u001b[39m] \u001b[38;5;28;01mfor\u001b[39;00m pop \u001b[38;5;129;01min\u001b[39;00m pop_ids]\n\u001b[1;32m    334\u001b[0m allele2_calls \u001b[38;5;241m=\u001b[39m [snp_info[\u001b[38;5;124m'\u001b[39m\u001b[38;5;124mcalls\u001b[39m\u001b[38;5;124m'\u001b[39m][pop][\u001b[38;5;241m1\u001b[39m] \u001b[38;5;28;01mfor\u001b[39;00m pop \u001b[38;5;129;01min\u001b[39;00m pop_ids]\n\u001b[1;32m    335\u001b[0m \u001b[38;5;66;03m# How many chromosomes did we call successfully in each population?\u001b[39;00m\n",
      "File \u001b[0;32m~/anaconda3/lib/python3.11/site-packages/dadi/Misc.py:333\u001b[0m, in \u001b[0;36m<listcomp>\u001b[0;34m(.0)\u001b[0m\n\u001b[1;32m    330\u001b[0m     this_snp_polarized \u001b[38;5;241m=\u001b[39m \u001b[38;5;28;01mFalse\u001b[39;00m\n\u001b[1;32m    332\u001b[0m \u001b[38;5;66;03m# Extract the allele calls for each population.\u001b[39;00m\n\u001b[0;32m--> 333\u001b[0m allele1_calls \u001b[38;5;241m=\u001b[39m [snp_info[\u001b[38;5;124m'\u001b[39m\u001b[38;5;124mcalls\u001b[39m\u001b[38;5;124m'\u001b[39m][pop][\u001b[38;5;241m0\u001b[39m] \u001b[38;5;28;01mfor\u001b[39;00m pop \u001b[38;5;129;01min\u001b[39;00m pop_ids]\n\u001b[1;32m    334\u001b[0m allele2_calls \u001b[38;5;241m=\u001b[39m [snp_info[\u001b[38;5;124m'\u001b[39m\u001b[38;5;124mcalls\u001b[39m\u001b[38;5;124m'\u001b[39m][pop][\u001b[38;5;241m1\u001b[39m] \u001b[38;5;28;01mfor\u001b[39;00m pop \u001b[38;5;129;01min\u001b[39;00m pop_ids]\n\u001b[1;32m    335\u001b[0m \u001b[38;5;66;03m# How many chromosomes did we call successfully in each population?\u001b[39;00m\n",
      "\u001b[0;31mKeyError\u001b[0m: 'Mmd_FRA'"
     ]
    }
   ],
   "source": [
    "fs4 = dadi.Spectrum.from_data_dict(dd4, ['Mmd_FRA', 'Mmd_IRA'], [16, 10])"
   ]
  },
  {
   "cell_type": "code",
   "execution_count": 26,
   "id": "e83510ba",
   "metadata": {},
   "outputs": [
    {
     "data": {
      "text/plain": [
       "Spectrum([[-- 0.0 0.0 0.0 0.0 0.0 0.0 0.0 0.0 0.0 0.0]\n",
       " [0.0 0.0 0.0 0.0 0.0 0.0 0.0 0.0 0.0 0.0 0.0]\n",
       " [0.0 0.0 0.0 0.0 0.0 0.0 0.0 0.0 0.0 0.0 0.0]\n",
       " [0.0 0.0 0.0 0.0 0.0 0.0 0.0 0.0 0.0 0.0 0.0]\n",
       " [0.0 0.0 0.0 0.0 0.0 0.0 0.0 0.0 0.0 0.0 0.0]\n",
       " [0.0 0.0 0.0 0.0 0.0 0.0 0.0 0.0 0.0 0.0 0.0]\n",
       " [0.0 0.0 0.0 0.0 0.0 0.0 0.0 0.0 0.0 0.0 0.0]\n",
       " [0.0 0.0 0.0 0.0 0.0 0.0 0.0 0.0 0.0 0.0 0.0]\n",
       " [0.0 0.0 0.0 0.0 0.0 0.0 0.0 0.0 0.0 0.0 0.0]\n",
       " [0.0 0.0 0.0 0.0 0.0 0.0 0.0 0.0 0.0 0.0 0.0]\n",
       " [0.0 0.0 0.0 0.0 0.0 0.0 0.0 0.0 0.0 0.0 0.0]\n",
       " [0.0 0.0 0.0 0.0 0.0 0.0 0.0 0.0 0.0 0.0 0.0]\n",
       " [0.0 0.0 0.0 0.0 0.0 0.0 0.0 0.0 0.0 0.0 0.0]\n",
       " [0.0 0.0 0.0 0.0 0.0 0.0 0.0 0.0 0.0 0.0 0.0]\n",
       " [0.0 0.0 0.0 0.0 0.0 0.0 0.0 0.0 0.0 0.0 0.0]\n",
       " [0.0 0.0 0.0 0.0 0.0 0.0 0.0 1.0 0.0 0.0 0.0]\n",
       " [0.0 0.0 0.0 0.0 0.0 0.0 0.0 0.0 0.0 0.0 --]], folded=False, pop_ids=['Mmd_FRA', 'Mmd_IRA'])"
      ]
     },
     "execution_count": 26,
     "metadata": {},
     "output_type": "execute_result"
    }
   ],
   "source": [
    "fs4"
   ]
  },
  {
   "cell_type": "code",
   "execution_count": 23,
   "id": "8617271d",
   "metadata": {},
   "outputs": [
    {
     "data": {
      "text/plain": [
       "1.0"
      ]
     },
     "execution_count": 23,
     "metadata": {},
     "output_type": "execute_result"
    }
   ],
   "source": [
    "fs4.sum()"
   ]
  }
 ],
 "metadata": {
  "kernelspec": {
   "display_name": "Python 3 (ipykernel)",
   "language": "python",
   "name": "python3"
  },
  "language_info": {
   "codemirror_mode": {
    "name": "ipython",
    "version": 3
   },
   "file_extension": ".py",
   "mimetype": "text/x-python",
   "name": "python",
   "nbconvert_exporter": "python",
   "pygments_lexer": "ipython3",
   "version": "3.11.7"
  }
 },
 "nbformat": 4,
 "nbformat_minor": 5
}
