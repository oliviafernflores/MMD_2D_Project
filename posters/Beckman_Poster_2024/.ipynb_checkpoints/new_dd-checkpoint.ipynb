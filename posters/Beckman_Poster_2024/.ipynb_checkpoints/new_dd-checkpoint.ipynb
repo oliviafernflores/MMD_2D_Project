{
 "cells": [
  {
   "cell_type": "code",
   "execution_count": 2,
   "id": "9611b5d2",
   "metadata": {},
   "outputs": [],
   "source": [
    "import dadi\n",
    "import pickle"
   ]
  },
  {
   "cell_type": "code",
   "execution_count": 3,
   "id": "8cd01a88",
   "metadata": {},
   "outputs": [],
   "source": [
    "dd = pickle.load(open('mus.biallelic.anno.syn.bpkl', 'rb'))"
   ]
  },
  {
   "cell_type": "code",
   "execution_count": 4,
   "id": "4d14d3b1",
   "metadata": {},
   "outputs": [],
   "source": [
    "fs = dadi.Spectrum.from_data_dict(dd, ['Mmd_FRA', 'Mmd_IRA'], [16, 10])"
   ]
  }
 ],
 "metadata": {
  "kernelspec": {
   "display_name": "Python 3 (ipykernel)",
   "language": "python",
   "name": "python3"
  },
  "language_info": {
   "codemirror_mode": {
    "name": "ipython",
    "version": 3
   },
   "file_extension": ".py",
   "mimetype": "text/x-python",
   "name": "python",
   "nbconvert_exporter": "python",
   "pygments_lexer": "ipython3",
   "version": "3.11.7"
  }
 },
 "nbformat": 4,
 "nbformat_minor": 5
}
