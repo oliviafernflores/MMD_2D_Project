{
 "cells": [
  {
   "cell_type": "code",
   "execution_count": 1,
   "id": "ba783653",
   "metadata": {},
   "outputs": [],
   "source": [
    "import dadi"
   ]
  },
  {
   "cell_type": "code",
   "execution_count": 2,
   "id": "d422d63f",
   "metadata": {},
   "outputs": [],
   "source": [
    "dd = {'chr1_123':{'segregating': ['A','T'], 'calls': {'Mmd_FRA': (0,0), 'Mmd_IRA': (7,3) }, 'outgroup_allele': 'T' } }"
   ]
  },
  {
   "cell_type": "code",
   "execution_count": 3,
   "id": "b2d484d1",
   "metadata": {},
   "outputs": [],
   "source": [
    "fs = dadi.Spectrum.from_data_dict(dd, ['Mmd_FRA', 'Mmd_IRA'], [16, 10])"
   ]
  },
  {
   "cell_type": "code",
   "execution_count": 4,
   "id": "2f5ca654",
   "metadata": {},
   "outputs": [
    {
     "data": {
      "text/plain": [
       "0.0"
      ]
     },
     "execution_count": 4,
     "metadata": {},
     "output_type": "execute_result"
    }
   ],
   "source": [
    "fs.sum()"
   ]
  },
  {
   "cell_type": "code",
   "execution_count": 5,
   "id": "925b51c7",
   "metadata": {},
   "outputs": [
    {
     "data": {
      "text/plain": [
       "Spectrum([[-- 0.0 0.0 0.0 0.0 0.0 0.0 0.0 0.0 0.0 0.0]\n",
       " [0.0 0.0 0.0 0.0 0.0 0.0 0.0 0.0 0.0 0.0 0.0]\n",
       " [0.0 0.0 0.0 0.0 0.0 0.0 0.0 0.0 0.0 0.0 0.0]\n",
       " [0.0 0.0 0.0 0.0 0.0 0.0 0.0 0.0 0.0 0.0 0.0]\n",
       " [0.0 0.0 0.0 0.0 0.0 0.0 0.0 0.0 0.0 0.0 0.0]\n",
       " [0.0 0.0 0.0 0.0 0.0 0.0 0.0 0.0 0.0 0.0 0.0]\n",
       " [0.0 0.0 0.0 0.0 0.0 0.0 0.0 0.0 0.0 0.0 0.0]\n",
       " [0.0 0.0 0.0 0.0 0.0 0.0 0.0 0.0 0.0 0.0 0.0]\n",
       " [0.0 0.0 0.0 0.0 0.0 0.0 0.0 0.0 0.0 0.0 0.0]\n",
       " [0.0 0.0 0.0 0.0 0.0 0.0 0.0 0.0 0.0 0.0 0.0]\n",
       " [0.0 0.0 0.0 0.0 0.0 0.0 0.0 0.0 0.0 0.0 0.0]\n",
       " [0.0 0.0 0.0 0.0 0.0 0.0 0.0 0.0 0.0 0.0 0.0]\n",
       " [0.0 0.0 0.0 0.0 0.0 0.0 0.0 0.0 0.0 0.0 0.0]\n",
       " [0.0 0.0 0.0 0.0 0.0 0.0 0.0 0.0 0.0 0.0 0.0]\n",
       " [0.0 0.0 0.0 0.0 0.0 0.0 0.0 0.0 0.0 0.0 0.0]\n",
       " [0.0 0.0 0.0 0.0 0.0 0.0 0.0 0.0 0.0 0.0 0.0]\n",
       " [0.0 0.0 0.0 0.0 0.0 0.0 0.0 0.0 0.0 0.0 --]], folded=False, pop_ids=['Mmd_FRA', 'Mmd_IRA'])"
      ]
     },
     "execution_count": 5,
     "metadata": {},
     "output_type": "execute_result"
    }
   ],
   "source": [
    "fs"
   ]
  },
  {
   "cell_type": "code",
   "execution_count": 6,
   "id": "f2743998",
   "metadata": {},
   "outputs": [],
   "source": [
    "dd2 = {'chr1_123':{'segregating': ['A','T'], 'calls': {'Mmd_FRA': (1,15), 'Mmd_IRA': (7,3) }, 'outgroup_allele': 'T' } }"
   ]
  },
  {
   "cell_type": "code",
   "execution_count": 7,
   "id": "2f3b678e",
   "metadata": {},
   "outputs": [],
   "source": [
    "fs2 = dadi.Spectrum.from_data_dict(dd2, ['Mmd_FRA', 'Mmd_IRA'], [16, 10])"
   ]
  },
  {
   "cell_type": "code",
   "execution_count": 8,
   "id": "baa83b9c",
   "metadata": {},
   "outputs": [
    {
     "data": {
      "text/plain": [
       "1.0"
      ]
     },
     "execution_count": 8,
     "metadata": {},
     "output_type": "execute_result"
    }
   ],
   "source": [
    "fs2.sum()"
   ]
  },
  {
   "cell_type": "code",
   "execution_count": 9,
   "id": "8d76a5b3",
   "metadata": {},
   "outputs": [
    {
     "data": {
      "text/plain": [
       "Spectrum([[-- 0.0 0.0 0.0 0.0 0.0 0.0 0.0 0.0 0.0 0.0]\n",
       " [0.0 0.0 0.0 0.0 0.0 0.0 0.0 1.0 0.0 0.0 0.0]\n",
       " [0.0 0.0 0.0 0.0 0.0 0.0 0.0 0.0 0.0 0.0 0.0]\n",
       " [0.0 0.0 0.0 0.0 0.0 0.0 0.0 0.0 0.0 0.0 0.0]\n",
       " [0.0 0.0 0.0 0.0 0.0 0.0 0.0 0.0 0.0 0.0 0.0]\n",
       " [0.0 0.0 0.0 0.0 0.0 0.0 0.0 0.0 0.0 0.0 0.0]\n",
       " [0.0 0.0 0.0 0.0 0.0 0.0 0.0 0.0 0.0 0.0 0.0]\n",
       " [0.0 0.0 0.0 0.0 0.0 0.0 0.0 0.0 0.0 0.0 0.0]\n",
       " [0.0 0.0 0.0 0.0 0.0 0.0 0.0 0.0 0.0 0.0 0.0]\n",
       " [0.0 0.0 0.0 0.0 0.0 0.0 0.0 0.0 0.0 0.0 0.0]\n",
       " [0.0 0.0 0.0 0.0 0.0 0.0 0.0 0.0 0.0 0.0 0.0]\n",
       " [0.0 0.0 0.0 0.0 0.0 0.0 0.0 0.0 0.0 0.0 0.0]\n",
       " [0.0 0.0 0.0 0.0 0.0 0.0 0.0 0.0 0.0 0.0 0.0]\n",
       " [0.0 0.0 0.0 0.0 0.0 0.0 0.0 0.0 0.0 0.0 0.0]\n",
       " [0.0 0.0 0.0 0.0 0.0 0.0 0.0 0.0 0.0 0.0 0.0]\n",
       " [0.0 0.0 0.0 0.0 0.0 0.0 0.0 0.0 0.0 0.0 0.0]\n",
       " [0.0 0.0 0.0 0.0 0.0 0.0 0.0 0.0 0.0 0.0 --]], folded=False, pop_ids=['Mmd_FRA', 'Mmd_IRA'])"
      ]
     },
     "execution_count": 9,
     "metadata": {},
     "output_type": "execute_result"
    }
   ],
   "source": [
    "fs2"
   ]
  },
  {
   "cell_type": "code",
   "execution_count": 23,
   "id": "c8214cfd",
   "metadata": {},
   "outputs": [],
   "source": [
    "dd3 = {'chr1_3216136': {'segregating': ('A', 'G'),\n",
    "  'context': '-A-',\n",
    "  'outgroup_allele': 'G',\n",
    "  'outgroup_context': '-G-',\n",
    "  'calls': {'Mmc_CAST': (20, 0),\n",
    "   'Mmd_FRA': (16,0),\n",
    "   'Mmd_GER': (16, 0),\n",
    "   'Mmd_HEL': (6, 0),\n",
    "   'Mmd_IRA': (7, 3),\n",
    "   'Mmm_AFG': (12, 0),\n",
    "   'Mmm_CZE': (16, 0),\n",
    "   'Mmm_KAZ': (16, 0),\n",
    "   'Ms_SPRE': (0, 16)}}}"
   ]
  },
  {
   "cell_type": "code",
   "execution_count": 24,
   "id": "baa4067c",
   "metadata": {},
   "outputs": [],
   "source": [
    "fs3 = dadi.Spectrum.from_data_dict(dd3, ['Mmd_FRA', 'Mmd_IRA'], [16, 10])"
   ]
  },
  {
   "cell_type": "code",
   "execution_count": 25,
   "id": "1e6d69a4",
   "metadata": {},
   "outputs": [
    {
     "data": {
      "text/plain": [
       "1.0"
      ]
     },
     "execution_count": 25,
     "metadata": {},
     "output_type": "execute_result"
    }
   ],
   "source": [
    "fs3.sum()"
   ]
  },
  {
   "cell_type": "code",
   "execution_count": 26,
   "id": "3270640b",
   "metadata": {},
   "outputs": [
    {
     "data": {
      "text/plain": [
       "Spectrum([[-- 0.0 0.0 0.0 0.0 0.0 0.0 0.0 0.0 0.0 0.0]\n",
       " [0.0 0.0 0.0 0.0 0.0 0.0 0.0 0.0 0.0 0.0 0.0]\n",
       " [0.0 0.0 0.0 0.0 0.0 0.0 0.0 0.0 0.0 0.0 0.0]\n",
       " [0.0 0.0 0.0 0.0 0.0 0.0 0.0 0.0 0.0 0.0 0.0]\n",
       " [0.0 0.0 0.0 0.0 0.0 0.0 0.0 0.0 0.0 0.0 0.0]\n",
       " [0.0 0.0 0.0 0.0 0.0 0.0 0.0 0.0 0.0 0.0 0.0]\n",
       " [0.0 0.0 0.0 0.0 0.0 0.0 0.0 0.0 0.0 0.0 0.0]\n",
       " [0.0 0.0 0.0 0.0 0.0 0.0 0.0 0.0 0.0 0.0 0.0]\n",
       " [0.0 0.0 0.0 0.0 0.0 0.0 0.0 0.0 0.0 0.0 0.0]\n",
       " [0.0 0.0 0.0 0.0 0.0 0.0 0.0 0.0 0.0 0.0 0.0]\n",
       " [0.0 0.0 0.0 0.0 0.0 0.0 0.0 0.0 0.0 0.0 0.0]\n",
       " [0.0 0.0 0.0 0.0 0.0 0.0 0.0 0.0 0.0 0.0 0.0]\n",
       " [0.0 0.0 0.0 0.0 0.0 0.0 0.0 0.0 0.0 0.0 0.0]\n",
       " [0.0 0.0 0.0 0.0 0.0 0.0 0.0 0.0 0.0 0.0 0.0]\n",
       " [0.0 0.0 0.0 0.0 0.0 0.0 0.0 0.0 0.0 0.0 0.0]\n",
       " [0.0 0.0 0.0 0.0 0.0 0.0 0.0 0.0 0.0 0.0 0.0]\n",
       " [0.0 0.0 0.0 0.0 0.0 0.0 0.0 1.0 0.0 0.0 --]], folded=False, pop_ids=['Mmd_FRA', 'Mmd_IRA'])"
      ]
     },
     "execution_count": 26,
     "metadata": {},
     "output_type": "execute_result"
    }
   ],
   "source": [
    "fs3"
   ]
  }
 ],
 "metadata": {
  "kernelspec": {
   "display_name": "Python 3 (ipykernel)",
   "language": "python",
   "name": "python3"
  },
  "language_info": {
   "codemirror_mode": {
    "name": "ipython",
    "version": 3
   },
   "file_extension": ".py",
   "mimetype": "text/x-python",
   "name": "python",
   "nbconvert_exporter": "python",
   "pygments_lexer": "ipython3",
   "version": "3.11.7"
  }
 },
 "nbformat": 4,
 "nbformat_minor": 5
}
